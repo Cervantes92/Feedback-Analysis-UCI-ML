{
 "cells": [
  {
   "cell_type": "code",
   "execution_count": 13,
   "metadata": {
    "collapsed": true
   },
   "outputs": [],
   "source": [
    "import pandas as pd\n",
    "import numpy as np\n",
    "import seaborn as sns\n",
    "import matplotlib.pyplot as plt\n",
    "from IPython.display import display as dsp"
   ]
  },
  {
   "cell_type": "code",
   "execution_count": 16,
   "metadata": {
    "collapsed": false
   },
   "outputs": [
    {
     "ename": "IndentationError",
     "evalue": "expected an indented block (<ipython-input-16-68d75ab5512f>, line 18)",
     "output_type": "error",
     "traceback": [
      "\u001b[0;36m  File \u001b[0;32m\"<ipython-input-16-68d75ab5512f>\"\u001b[0;36m, line \u001b[0;32m18\u001b[0m\n\u001b[0;31m    df = parsefile('data/yelp_labelled.txt', head = True)\u001b[0m\n\u001b[0m     ^\u001b[0m\n\u001b[0;31mIndentationError\u001b[0m\u001b[0;31m:\u001b[0m expected an indented block\n"
     ]
    }
   ],
   "source": [
    "def printfile(path):\n",
    "    for line in open(path):\n",
    "        print(line)\n",
    "\n",
    "def parsefile(path, head = False):\n",
    "    df = pd.read_csv(path, delimiter = '\\t', header = None)\n",
    "    df.rename({1: 'Review', 2:'Class'}, inplace = True)\n",
    "    \n",
    "    if head == True:\n",
    "        dsp(df.head())\n",
    "    \n",
    "    return df\n",
    "\n",
    "#printfile('data/yelp_labelled.txt')\n",
    "\n",
    "df = parsefile('data/yelp_labelled.txt', head = True)"
   ]
  }
 ],
 "metadata": {
  "kernelspec": {
   "display_name": "Python 3",
   "language": "python",
   "name": "python3"
  },
  "language_info": {
   "codemirror_mode": {
    "name": "ipython",
    "version": 3
   },
   "file_extension": ".py",
   "mimetype": "text/x-python",
   "name": "python",
   "nbconvert_exporter": "python",
   "pygments_lexer": "ipython3",
   "version": "3.6.0"
  }
 },
 "nbformat": 4,
 "nbformat_minor": 2
}
